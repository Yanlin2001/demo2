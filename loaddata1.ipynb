{
 "cells": [
  {
   "cell_type": "code",
   "execution_count": null,
   "metadata": {},
   "outputs": [],
   "source": [
    "import glob\n",
    "import os.path\n",
    "import numpy as np\n",
    "from src.data.extractFeture import preprocess_and_extract_features_mne_with_timestamps\n",
    "from src.data.extractTarget import extractTarget\n",
    "\n",
    "def extract_data_and_labels(edf_file_path, summary_file_path):\n",
    "\n",
    "    # 提取特征\n",
    "    X = preprocess_and_extract_features_mne_with_timestamps(edf_file_path)\n",
    "    # 提取标签\n",
    "    seizure_start_time, seizure_end_time = extractTarget(summary_file_path, edf_file_path)\n",
    "    y = np.array([1 if seizure_start_time <= row[0] <= seizure_end_time else 0 for row in X])\n",
    "\n",
    "    #从X数组中移除第一列Time\n",
    "    X = X[:,1:]\n",
    "    return X,y"
   ]
  },
  {
   "cell_type": "code",
   "execution_count": null,
   "metadata": {},
   "outputs": [],
   "source": [
    "\n",
    "def load_data(subject_id,base_path):\n",
    "    \"\"\"\n",
    "    加载给定主题的数据。\n",
    "    会读取给定chb主题的所有edf文件，并从每个文件中提取特征。\n",
    "    返回一个包含所有数据的列表，以及一个包含所有标签的列表。\n",
    "    其中，每个数据都是一个形状为 (n_samples, n_features) 的数组，每个标签都是一个形状为 (n_samples,) 的数组。\n",
    "    \"\"\"\n",
    "    # @NOTE: 拼接所有edf文件路径\n",
    "    edf_file_path = sorted(glob.glob(os.path.join(base_path, \"chb{:02d}/*.edf\".format(subject_id))))\n",
    "    summary_file_path = os.path.join(base_path, \"chb{:02d}/chb{:02d}-summary.txt\".format(subject_id, subject_id))\n",
    "    all_X = []\n",
    "    all_y = []\n",
    "    for edf_file_path in edf_file_path:\n",
    "        X, y = extract_data_and_labels(edf_file_path, summary_file_path)\n",
    "        all_X.append(X)\n",
    "        all_y.append(y)\n",
    "    return all_X,all_y\n",
    "\n",
    "#使用方法：\n",
    "# subject_id = 1\n",
    "# base_path = \"data\"\n",
    "# all_X,all_y = load_data(subject_id,base_path)\n",
    "\n",
    "#对于all_y每个数据，统计1和0的个数并打印\n",
    "# total_n_count = 0\n",
    "# total_p_count = 0\n",
    "# for y in all_y:\n",
    "#     p_count = 0\n",
    "#     n_count = 0\n",
    "#     for lable in y:\n",
    "#         if lable == 1:\n",
    "#             p_count += 1\n",
    "#         else:\n",
    "#             n_count += 1\n",
    "#     total_n_count += n_count\n",
    "#     total_p_count += p_count\n",
    "# print(\"total_p_count/total_count:\",total_p_count/(total_n_count+total_p_count))\n",
    "\n",
    "## total_p_count/total_count: 0.018808777429467086"
   ]
  }
 ],
 "metadata": {
  "kernelspec": {
   "display_name": "py310no1",
   "language": "python",
   "name": "py310no1"
  },
  "language_info": {
   "codemirror_mode": {
    "name": "ipython",
    "version": 3
   },
   "file_extension": ".py",
   "mimetype": "text/x-python",
   "name": "python",
   "nbconvert_exporter": "python",
   "pygments_lexer": "ipython3",
   "version": "3.10.14"
  }
 },
 "nbformat": 4,
 "nbformat_minor": 2
}
