{
 "cells": [],
 "metadata": {
  "kernelspec": {
   "display_name": "py310no1",
   "language": "python",
   "name": "py310no1"
  },
  "language_info": {
   "name": "python",
   "version": "3.10.13"
  }
 },
 "nbformat": 4,
 "nbformat_minor": 2
}
